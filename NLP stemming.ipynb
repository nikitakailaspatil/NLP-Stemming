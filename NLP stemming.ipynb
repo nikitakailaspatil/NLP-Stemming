{
 "cells": [
  {
   "cell_type": "code",
   "execution_count": 1,
   "id": "06f62c6b",
   "metadata": {},
   "outputs": [],
   "source": [
    "import nltk"
   ]
  },
  {
   "cell_type": "markdown",
   "id": "8eb63bf4",
   "metadata": {},
   "source": [
    "##It contains text processing libraries for tokenization, parsing, classification, stemming, tagging and semantic reasoning\n"
   ]
  },
  {
   "cell_type": "code",
   "execution_count": 16,
   "id": "78bf5533",
   "metadata": {},
   "outputs": [
    {
     "name": "stderr",
     "output_type": "stream",
     "text": [
      "[nltk_data] Downloading package punkt to\n",
      "[nltk_data]     C:\\Users\\patil\\AppData\\Roaming\\nltk_data...\n",
      "[nltk_data]   Package punkt is already up-to-date!\n"
     ]
    },
    {
     "data": {
      "text/plain": [
       "True"
      ]
     },
     "execution_count": 16,
     "metadata": {},
     "output_type": "execute_result"
    }
   ],
   "source": [
    "nltk.download(\"punkt\")"
   ]
  },
  {
   "cell_type": "code",
   "execution_count": 18,
   "id": "dcfb5c33",
   "metadata": {},
   "outputs": [],
   "source": [
    "paragraph=\"\"\"Natural language processing (NLP) refers to the branch of computer science—and more specifically, the branch of artificial intelligence or AI—concerned with giving computers the ability to understand text and spoken words in much the same way human beings can.\n",
    "\n",
    "NLP combines computational linguistics—rule-based modeling of human language—with statistical, machine learning, and deep learning models. Together, these technologies enable computers to process human language in the form of text or voice data and to ‘understand’ its full meaning, complete with the speaker or writer’s intent and sentiment.\n",
    "\n",
    "NLP drives computer programs that translate text from one language to another, respond to spoken commands, and summarize large volumes of text rapidly—even in real time. There’s a good chance you’ve interacted with NLP in the form of voice-operated GPS systems, digital assistants, speech-to-text dictation software, customer service chatbots, and other consumer conveniences. But NLP also plays a growing role in enterprise solutions that help streamline business operations, increase employee productivity, and simplify mission-critical business processes.\"\"\""
   ]
  },
  {
   "cell_type": "code",
   "execution_count": 19,
   "id": "d98b0e8b",
   "metadata": {},
   "outputs": [],
   "source": [
    "sentences=nltk.sent_tokenize(paragraph)"
   ]
  },
  {
   "cell_type": "markdown",
   "id": "c5b80f34",
   "metadata": {},
   "source": [
    "##It converts paragraph into different different sentences"
   ]
  },
  {
   "cell_type": "code",
   "execution_count": 20,
   "id": "79f8205b",
   "metadata": {},
   "outputs": [
    {
     "data": {
      "text/plain": [
       "['Natural language processing (NLP) refers to the branch of computer science—and more specifically, the branch of artificial intelligence or AI—concerned with giving computers the ability to understand text and spoken words in much the same way human beings can.',\n",
       " 'NLP combines computational linguistics—rule-based modeling of human language—with statistical, machine learning, and deep learning models.',\n",
       " 'Together, these technologies enable computers to process human language in the form of text or voice data and to ‘understand’ its full meaning, complete with the speaker or writer’s intent and sentiment.',\n",
       " 'NLP drives computer programs that translate text from one language to another, respond to spoken commands, and summarize large volumes of text rapidly—even in real time.',\n",
       " 'There’s a good chance you’ve interacted with NLP in the form of voice-operated GPS systems, digital assistants, speech-to-text dictation software, customer service chatbots, and other consumer conveniences.',\n",
       " 'But NLP also plays a growing role in enterprise solutions that help streamline business operations, increase employee productivity, and simplify mission-critical business processes.']"
      ]
     },
     "execution_count": 20,
     "metadata": {},
     "output_type": "execute_result"
    }
   ],
   "source": [
    "sentences"
   ]
  },
  {
   "cell_type": "code",
   "execution_count": 21,
   "id": "f74f9cfe",
   "metadata": {},
   "outputs": [],
   "source": [
    "from nltk.stem import PorterStemmer"
   ]
  },
  {
   "cell_type": "markdown",
   "id": "a1f06ec1",
   "metadata": {},
   "source": [
    "Import PorterStemmer for stemming"
   ]
  },
  {
   "cell_type": "code",
   "execution_count": 22,
   "id": "11d07e4f",
   "metadata": {},
   "outputs": [],
   "source": [
    "from nltk.corpus import stopwords"
   ]
  },
  {
   "cell_type": "markdown",
   "id": "cae0a689",
   "metadata": {},
   "source": [
    "Import stopwords for removing stopwords.\n",
    "\n",
    "stopwords:of,am,is,...etc.These words does not specify much value in that particular sentences.So stopwords helps us to remove this kind of words."
   ]
  },
  {
   "cell_type": "code",
   "execution_count": 23,
   "id": "66f2aa88",
   "metadata": {},
   "outputs": [],
   "source": [
    "stemmer=PorterStemmer()"
   ]
  },
  {
   "cell_type": "code",
   "execution_count": 24,
   "id": "7f2308b2",
   "metadata": {},
   "outputs": [],
   "source": [
    "for i in range(len(sentences)):\n",
    "    words=nltk.word_tokenize(sentences[i])\n",
    "    words=[stemmer.stem(word) for word in words if word not in set(stopwords.words(\"english\"))]\n",
    "    sentences[i]=\" \".join(words)"
   ]
  },
  {
   "cell_type": "code",
   "execution_count": 25,
   "id": "60d16422",
   "metadata": {},
   "outputs": [
    {
     "data": {
      "text/plain": [
       "['natur languag process ( nlp ) refer branch comput science—and specif , branch artifici intellig ai—concern give comput abil understand text spoken word much way human be .',\n",
       " 'nlp combin comput linguistics—rule-bas model human language—with statist , machin learn , deep learn model .',\n",
       " 'togeth , technolog enabl comput process human languag form text voic data ‘ understand ’ full mean , complet speaker writer ’ intent sentiment .',\n",
       " 'nlp drive comput program translat text one languag anoth , respond spoken command , summar larg volum text rapidly—even real time .',\n",
       " 'there ’ good chanc ’ interact nlp form voice-oper gp system , digit assist , speech-to-text dictat softwar , custom servic chatbot , consum conveni .',\n",
       " 'but nlp also play grow role enterpris solut help streamlin busi oper , increas employe product , simplifi mission-crit busi process .']"
      ]
     },
     "execution_count": 25,
     "metadata": {},
     "output_type": "execute_result"
    }
   ],
   "source": [
    "sentences"
   ]
  },
  {
   "cell_type": "markdown",
   "id": "9e30f318",
   "metadata": {},
   "source": [
    "# What is Stemming:\n",
    "Stemming is a process of reducing infected words to their word stem.\n",
    "\n",
    "stemming converts that word which sometimes not meaningful.\n",
    "\n",
    "Examples:1.history,historical==after stemming==>histori\n",
    "     \n",
    "2.finally,final,finalized==after stemming==>fina"
   ]
  },
  {
   "cell_type": "code",
   "execution_count": null,
   "id": "0865a892",
   "metadata": {},
   "outputs": [],
   "source": []
  }
 ],
 "metadata": {
  "kernelspec": {
   "display_name": "Python 3 (ipykernel)",
   "language": "python",
   "name": "python3"
  },
  "language_info": {
   "codemirror_mode": {
    "name": "ipython",
    "version": 3
   },
   "file_extension": ".py",
   "mimetype": "text/x-python",
   "name": "python",
   "nbconvert_exporter": "python",
   "pygments_lexer": "ipython3",
   "version": "3.9.7"
  }
 },
 "nbformat": 4,
 "nbformat_minor": 5
}
